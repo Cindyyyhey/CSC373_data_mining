{
  "cells": [
    {
      "cell_type": "markdown",
      "metadata": {
        "id": "view-in-github",
        "colab_type": "text"
      },
      "source": [
        "<a href=\"https://colab.research.google.com/github/Cindyyyhey/CSC373_data_mining/blob/main/AssocAnalysisAssign1_CindyChen.ipynb\" target=\"_parent\"><img src=\"https://colab.research.google.com/assets/colab-badge.svg\" alt=\"Open In Colab\"/></a>"
      ]
    },
    {
      "cell_type": "markdown",
      "metadata": {
        "id": "GcW7DX4yBJhr"
      },
      "source": [
        "Implement the a priori algorithm. Apply to datasets indicated in code below.\n",
        "You may work togehter, but you should make your own code. Share ideas about data structures and flow.\n",
        "\n",
        "**A priori algorthm**\n",
        "\n",
        "```\n",
        "F_k: frequent k-itemsets\n",
        "\n",
        "L_k: candidate k-itemsets\n",
        "\n",
        "Algorithm\n",
        "* Let k=1\n",
        "* Generate F_1 = {frequent 1-itemsets}\n",
        "* Repeat until F_k is empty\n",
        " * Candidate Generation: Generate L_(k+1) from F_k\n",
        " * Candidate Pruning: eliminate candidate itemsets in L_k+1 containing subsets of length k that are infrequent \n",
        " * Support Counting: Count the support of each candidate in L_(k+1) by scanning the DB (or use a more efficient hash method)\n",
        " * Candidate Elimination: Eliminate candidates in L_(k+1) that are infrequent, leaving only those that are frequent => F_(k+1)\n",
        "```\n",
        "\n",
        "\n",
        "\n"
      ]
    },
    {
      "cell_type": "code",
      "execution_count": null,
      "metadata": {
        "id": "fnd8wz-LBC8j"
      },
      "outputs": [],
      "source": [
        "#Functions and imports\n",
        "#I had functions for candidate generation, candidate pruning, support count, and candidate elimination.\n"
      ]
    },
    {
      "cell_type": "code",
      "execution_count": null,
      "metadata": {
        "id": "yESsqbucZmiW"
      },
      "outputs": [],
      "source": [
        "import csv\n",
        "from itertools import combinations\n",
        "\n",
        "# Read the data from csv file and store in dict.\n",
        "\n",
        "def read_data(file_loc):\n",
        "    trans = dict()\n",
        "    with open(file_loc) as f:\n",
        "        filedata = csv.reader(f, delimiter=',')\n",
        "        count = 0\n",
        "        for line in filedata:\n",
        "            count += 1\n",
        "            set1 = set(line)\n",
        "            set1.remove(str(count))\n",
        "            list1 = list(set1)\n",
        "            while(\"\" in list1) :\n",
        "                list1.remove(\"\")\n",
        "            trans[count] = list1\n",
        "    return trans"
      ]
    },
    {
      "cell_type": "code",
      "execution_count": null,
      "metadata": {
        "id": "7GDP2nltZmiX"
      },
      "outputs": [],
      "source": [
        "# Function for counting the frequency of each itemset.\n",
        "def frequence(items_lst, trans, check=False):\n",
        "    items_counts = dict()\n",
        "    for i in items_lst:\n",
        "        temp_i = {i}\n",
        "        if check:\n",
        "            temp_i = set(i)\n",
        "        for j in trans.items():\n",
        "            if temp_i.issubset(set(j[1])):\n",
        "                if i in items_counts:\n",
        "                    items_counts[i] += 1\n",
        "                else:\n",
        "                    items_counts[i] = 1\n",
        "    return items_counts"
      ]
    },
    {
      "cell_type": "code",
      "execution_count": null,
      "metadata": {
        "id": "em3tCt0VZmiY"
      },
      "outputs": [],
      "source": [
        "data = read_data('/Users/Jerry/Desktop/CSC373/jupyter notebook/Assoc_Analysis_Vidhya.dat.csv')\n",
        "data"
      ]
    },
    {
      "cell_type": "code",
      "execution_count": null,
      "metadata": {
        "id": "6xGhnt7DZmiZ"
      },
      "outputs": [],
      "source": [
        "number_of_trans = [len(i) for i in data.values()]\n",
        "#number_of_trans"
      ]
    },
    {
      "cell_type": "code",
      "execution_count": null,
      "metadata": {
        "id": "WJJSO-IgZmiZ",
        "outputId": "a7b37bbb-8030-42ab-b890-a4a8841597a9"
      },
      "outputs": [
        {
          "data": {
            "text/plain": [
              "{'Milk': 158,\n",
              " 'Eggs': 138,\n",
              " 'Cheese': 158,\n",
              " 'Pencil': 114,\n",
              " 'Bagel': 134,\n",
              " 'Meat': 150,\n",
              " 'Diaper': 128,\n",
              " 'Bread': 159,\n",
              " 'Wine': 138}"
            ]
          },
          "execution_count": 93,
          "metadata": {},
          "output_type": "execute_result"
        }
      ],
      "source": [
        "items_lst = set()\n",
        "\n",
        "#itemcount_track = list()\n",
        "    \n",
        "for i in data.values():\n",
        "    for j in i:\n",
        "        items_lst.add(j)\n",
        "\n",
        "#store_item_lst = list(items_lst)[:]\n",
        "#items_grater_then_min_support = list()\n",
        "items_counts = frequence(items_lst, data)\n",
        "items_counts"
      ]
    },
    {
      "cell_type": "code",
      "execution_count": null,
      "metadata": {
        "id": "RzHsvYUnZmib",
        "outputId": "3979e5c1-69fb-41a3-9d8f-c178b6251920"
      },
      "outputs": [
        {
          "data": {
            "text/plain": [
              "{'Bagel',\n",
              " 'Bread',\n",
              " 'Cheese',\n",
              " 'Diaper',\n",
              " 'Eggs',\n",
              " 'Meat',\n",
              " 'Milk',\n",
              " 'Pencil',\n",
              " 'Wine'}"
            ]
          },
          "execution_count": 94,
          "metadata": {},
          "output_type": "execute_result"
        }
      ],
      "source": [
        "items_lst"
      ]
    },
    {
      "cell_type": "markdown",
      "metadata": {
        "id": "iE-zJk95Zmic"
      },
      "source": [
        "# We set the minsup is 30"
      ]
    },
    {
      "cell_type": "code",
      "execution_count": null,
      "metadata": {
        "id": "dql6Mq7LZmic"
      },
      "outputs": [],
      "source": [
        "minsup = 30\n",
        "freq_itemset1 = {}"
      ]
    },
    {
      "cell_type": "code",
      "execution_count": null,
      "metadata": {
        "id": "wALiU8olZmid",
        "outputId": "97e3c0cb-70f2-4a86-ab42-0c8fef5fcf28"
      },
      "outputs": [
        {
          "data": {
            "text/plain": [
              "{'Milk': 158,\n",
              " 'Eggs': 138,\n",
              " 'Cheese': 158,\n",
              " 'Pencil': 114,\n",
              " 'Bagel': 134,\n",
              " 'Meat': 150,\n",
              " 'Diaper': 128,\n",
              " 'Bread': 159,\n",
              " 'Wine': 138}"
            ]
          },
          "execution_count": 96,
          "metadata": {},
          "output_type": "execute_result"
        }
      ],
      "source": [
        "for item in items_counts:\n",
        "    if items_counts[item]>=minsup:\n",
        "        freq_itemset1[item] = items_counts[item]\n",
        "freq_itemset1"
      ]
    },
    {
      "cell_type": "code",
      "execution_count": null,
      "metadata": {
        "id": "64ZGsIZxZmie",
        "outputId": "d90914a8-6a40-4b95-acdf-3b576da83319"
      },
      "outputs": [
        {
          "data": {
            "text/plain": [
              "<itertools.combinations at 0x7fb30565c0e0>"
            ]
          },
          "execution_count": 97,
          "metadata": {},
          "output_type": "execute_result"
        }
      ],
      "source": [
        "# find all possible combination \n",
        "item_list = combinations(items_lst, 2)\n",
        "item_list"
      ]
    },
    {
      "cell_type": "code",
      "execution_count": null,
      "metadata": {
        "id": "7hB6JvlVZmie",
        "outputId": "2733d997-edfe-4227-aabd-bd078d57f377"
      },
      "outputs": [
        {
          "data": {
            "text/plain": [
              "{('Milk', 'Eggs'): 77,\n",
              " ('Milk', 'Cheese'): 96,\n",
              " ('Milk', 'Pencil'): 54,\n",
              " ('Milk', 'Bagel'): 71,\n",
              " ('Milk', 'Meat'): 77,\n",
              " ('Milk', 'Diaper'): 49,\n",
              " ('Milk', 'Bread'): 88,\n",
              " ('Milk', 'Wine'): 69,\n",
              " ('Eggs', 'Cheese'): 94,\n",
              " ('Eggs', 'Pencil'): 52,\n",
              " ('Eggs', 'Bagel'): 48,\n",
              " ('Eggs', 'Meat'): 84,\n",
              " ('Eggs', 'Diaper'): 51,\n",
              " ('Eggs', 'Bread'): 59,\n",
              " ('Eggs', 'Wine'): 76,\n",
              " ('Cheese', 'Pencil'): 63,\n",
              " ('Cheese', 'Bagel'): 61,\n",
              " ('Cheese', 'Meat'): 102,\n",
              " ('Cheese', 'Diaper'): 63,\n",
              " ('Cheese', 'Bread'): 75,\n",
              " ('Cheese', 'Wine'): 85,\n",
              " ('Pencil', 'Bagel'): 50,\n",
              " ('Pencil', 'Meat'): 56,\n",
              " ('Pencil', 'Diaper'): 54,\n",
              " ('Pencil', 'Bread'): 63,\n",
              " ('Pencil', 'Wine'): 63,\n",
              " ('Bagel', 'Meat'): 60,\n",
              " ('Bagel', 'Diaper'): 58,\n",
              " ('Bagel', 'Bread'): 88,\n",
              " ('Bagel', 'Wine'): 54,\n",
              " ('Meat', 'Diaper'): 61,\n",
              " ('Meat', 'Bread'): 65,\n",
              " ('Meat', 'Wine'): 79,\n",
              " ('Diaper', 'Bread'): 73,\n",
              " ('Diaper', 'Wine'): 74,\n",
              " ('Bread', 'Wine'): 77}"
            ]
          },
          "execution_count": 98,
          "metadata": {},
          "output_type": "execute_result"
        }
      ],
      "source": [
        "# Get their frequency\n",
        "items_counts = frequence(item_list, data, check=True)\n",
        "items_counts"
      ]
    },
    {
      "cell_type": "code",
      "execution_count": null,
      "metadata": {
        "id": "SudjUU70Zmif",
        "outputId": "5c7d4b04-7b37-45f3-beaf-f4b58e96cf1b"
      },
      "outputs": [
        {
          "data": {
            "text/plain": [
              "{('Milk', 'Eggs'): 77,\n",
              " ('Milk', 'Cheese'): 96,\n",
              " ('Milk', 'Pencil'): 54,\n",
              " ('Milk', 'Bagel'): 71,\n",
              " ('Milk', 'Meat'): 77,\n",
              " ('Milk', 'Diaper'): 49,\n",
              " ('Milk', 'Bread'): 88,\n",
              " ('Milk', 'Wine'): 69,\n",
              " ('Eggs', 'Cheese'): 94,\n",
              " ('Eggs', 'Pencil'): 52,\n",
              " ('Eggs', 'Bagel'): 48,\n",
              " ('Eggs', 'Meat'): 84,\n",
              " ('Eggs', 'Diaper'): 51,\n",
              " ('Eggs', 'Bread'): 59,\n",
              " ('Eggs', 'Wine'): 76,\n",
              " ('Cheese', 'Pencil'): 63,\n",
              " ('Cheese', 'Bagel'): 61,\n",
              " ('Cheese', 'Meat'): 102,\n",
              " ('Cheese', 'Diaper'): 63,\n",
              " ('Cheese', 'Bread'): 75,\n",
              " ('Cheese', 'Wine'): 85,\n",
              " ('Pencil', 'Bagel'): 50,\n",
              " ('Pencil', 'Meat'): 56,\n",
              " ('Pencil', 'Diaper'): 54,\n",
              " ('Pencil', 'Bread'): 63,\n",
              " ('Pencil', 'Wine'): 63,\n",
              " ('Bagel', 'Meat'): 60,\n",
              " ('Bagel', 'Diaper'): 58,\n",
              " ('Bagel', 'Bread'): 88,\n",
              " ('Bagel', 'Wine'): 54,\n",
              " ('Meat', 'Diaper'): 61,\n",
              " ('Meat', 'Bread'): 65,\n",
              " ('Meat', 'Wine'): 79,\n",
              " ('Diaper', 'Bread'): 73,\n",
              " ('Diaper', 'Wine'): 74,\n",
              " ('Bread', 'Wine'): 77}"
            ]
          },
          "execution_count": 99,
          "metadata": {},
          "output_type": "execute_result"
        }
      ],
      "source": [
        "# filter out some itemsets according to minsup\n",
        "freq_itemset2 = {}\n",
        "for item in items_counts:\n",
        "    if items_counts[item]>=minsup:\n",
        "        freq_itemset2[item] = items_counts[item]\n",
        "freq_itemset2"
      ]
    },
    {
      "cell_type": "code",
      "execution_count": null,
      "metadata": {
        "id": "44RQ15kjZmig",
        "outputId": "b6c7c415-be84-4e97-e760-f99cb31e2df3"
      },
      "outputs": [
        {
          "name": "stdout",
          "output_type": "stream",
          "text": [
            "These are the frequent item set with size 3\n"
          ]
        },
        {
          "data": {
            "text/plain": [
              "{('Milk', 'Eggs', 'Cheese'): 62,\n",
              " ('Milk', 'Eggs', 'Meat'): 56,\n",
              " ('Milk', 'Eggs', 'Bread'): 33,\n",
              " ('Milk', 'Eggs', 'Wine'): 43,\n",
              " ('Milk', 'Cheese', 'Pencil'): 32,\n",
              " ('Milk', 'Cheese', 'Meat'): 64,\n",
              " ('Milk', 'Cheese', 'Diaper'): 30,\n",
              " ('Milk', 'Cheese', 'Bread'): 41,\n",
              " ('Milk', 'Cheese', 'Wine'): 51,\n",
              " ('Milk', 'Pencil', 'Bread'): 34,\n",
              " ('Milk', 'Pencil', 'Wine'): 30,\n",
              " ('Milk', 'Bagel', 'Bread'): 54,\n",
              " ('Milk', 'Meat', 'Bread'): 33,\n",
              " ('Milk', 'Meat', 'Wine'): 40,\n",
              " ('Milk', 'Diaper', 'Bread'): 36,\n",
              " ('Milk', 'Bread', 'Wine'): 41,\n",
              " ('Eggs', 'Cheese', 'Pencil'): 34,\n",
              " ('Eggs', 'Cheese', 'Meat'): 68,\n",
              " ('Eggs', 'Cheese', 'Diaper'): 32,\n",
              " ('Eggs', 'Cheese', 'Bread'): 37,\n",
              " ('Eggs', 'Cheese', 'Wine'): 52,\n",
              " ('Eggs', 'Pencil', 'Bread'): 31,\n",
              " ('Eggs', 'Pencil', 'Wine'): 38,\n",
              " ('Eggs', 'Meat', 'Wine'): 47,\n",
              " ('Eggs', 'Diaper', 'Wine'): 35,\n",
              " ('Eggs', 'Bread', 'Wine'): 38,\n",
              " ('Cheese', 'Pencil', 'Meat'): 33,\n",
              " ('Cheese', 'Pencil', 'Bread'): 39,\n",
              " ('Cheese', 'Pencil', 'Wine'): 40,\n",
              " ('Cheese', 'Bagel', 'Meat'): 38,\n",
              " ('Cheese', 'Bagel', 'Diaper'): 34,\n",
              " ('Cheese', 'Bagel', 'Bread'): 33,\n",
              " ('Cheese', 'Bagel', 'Wine'): 34,\n",
              " ('Cheese', 'Meat', 'Diaper'): 36,\n",
              " ('Cheese', 'Meat', 'Bread'): 45,\n",
              " ('Cheese', 'Meat', 'Wine'): 53,\n",
              " ('Cheese', 'Diaper', 'Bread'): 43,\n",
              " ('Cheese', 'Diaper', 'Wine'): 43,\n",
              " ('Cheese', 'Bread', 'Wine'): 45,\n",
              " ('Pencil', 'Meat', 'Bread'): 35,\n",
              " ('Pencil', 'Meat', 'Wine'): 36,\n",
              " ('Pencil', 'Diaper', 'Bread'): 33,\n",
              " ('Pencil', 'Diaper', 'Wine'): 34,\n",
              " ('Pencil', 'Bread', 'Wine'): 36,\n",
              " ('Bagel', 'Meat', 'Diaper'): 33,\n",
              " ('Bagel', 'Meat', 'Bread'): 36,\n",
              " ('Bagel', 'Meat', 'Wine'): 33,\n",
              " ('Bagel', 'Diaper', 'Bread'): 38,\n",
              " ('Bagel', 'Diaper', 'Wine'): 32,\n",
              " ('Bagel', 'Bread', 'Wine'): 32,\n",
              " ('Meat', 'Diaper', 'Bread'): 38,\n",
              " ('Meat', 'Diaper', 'Wine'): 39,\n",
              " ('Meat', 'Bread', 'Wine'): 42,\n",
              " ('Diaper', 'Bread', 'Wine'): 47}"
            ]
          },
          "metadata": {},
          "output_type": "display_data"
        },
        {
          "name": "stdout",
          "output_type": "stream",
          "text": [
            "These are the frequent item set with size 4\n"
          ]
        },
        {
          "data": {
            "text/plain": [
              "{('Milk', 'Eggs', 'Cheese', 'Meat'): 48,\n",
              " ('Milk', 'Eggs', 'Cheese', 'Wine'): 33,\n",
              " ('Milk', 'Cheese', 'Meat', 'Wine'): 32,\n",
              " ('Eggs', 'Cheese', 'Meat', 'Wine'): 35}"
            ]
          },
          "metadata": {},
          "output_type": "display_data"
        },
        {
          "name": "stdout",
          "output_type": "stream",
          "text": [
            "These are the frequent item set with size 5\n"
          ]
        },
        {
          "data": {
            "text/plain": [
              "{}"
            ]
          },
          "metadata": {},
          "output_type": "display_data"
        }
      ],
      "source": [
        "# while loop until the candidate freq itemset is empty\n",
        "i = 3\n",
        "while freq_itemset3 != {}:\n",
        "    item_list = combinations(items_lst, i)\n",
        "    items_counts = frequence(item_list, data, check=True)\n",
        "    freq_itemset3 = {}\n",
        "    for item in items_counts:\n",
        "        if items_counts[item]>=minsup:\n",
        "            freq_itemset3[item] = items_counts[item]\n",
        "    print(\"These are the frequent item set with size\", i)\n",
        "    display(freq_itemset3)\n",
        "    i+=1"
      ]
    },
    {
      "cell_type": "markdown",
      "metadata": {
        "id": "6_89wGZkZmii"
      },
      "source": [
        "# So far, we finish the frequent item set generation"
      ]
    },
    {
      "cell_type": "code",
      "execution_count": null,
      "metadata": {
        "id": "IFyeusq_Zmij"
      },
      "outputs": [],
      "source": [
        ""
      ]
    },
    {
      "cell_type": "markdown",
      "metadata": {
        "id": "Yo9YP62mBtHo"
      },
      "source": [
        "Some output - I think it is correct, but if you find problems, let me know\n",
        "\n",
        "```\n",
        "Transaction file: /content/drive/MyDrive/CS Classes/CSC_373_Data_Mining/CSC_373_Student_Files/Data/Table_5_1.txt\n",
        "\n",
        "min_sup 2\n",
        "\n",
        "Number of transactions: 5\n",
        "\n",
        "Candidate 1-itemset has 6 items.\n",
        "{'Bread': 4, 'Milk': 4, 'Beer': 3, 'Diapers': 4, 'Eggs': 1, 'Cola': 2}\n",
        "\n",
        "Pruned 1-itemset is the same as the eliminated 1-itemset.\n",
        "\n",
        "Eliminated 1-itemset has 5 items.\n",
        "{'Bread': 4, 'Milk': 4, 'Beer': 3, 'Diapers': 4, 'Cola': 2}\n",
        "\n",
        "Candidate 2-itemset has 10 items.\n",
        "{'Bread,Milk': 0, 'Beer,Bread': 0, 'Bread,Diapers': 0, 'Bread,Cola': 0, 'Beer,Milk': 0, 'Diapers,Milk': 0, 'Cola,Milk': 0, 'Beer,Diapers': 0, 'Beer,Cola': 0, 'Cola,Diapers': 0}\n",
        "\n",
        "Pruned 2-itemset has 10 items.\n",
        "{'Bread,Milk': 0, 'Beer,Bread': 0, 'Bread,Diapers': 0, 'Bread,Cola': 0, 'Beer,Milk': 0, 'Diapers,Milk': 0, 'Cola,Milk': 0, 'Beer,Diapers': 0, 'Beer,Cola': 0, 'Cola,Diapers': 0}\n",
        "\n",
        "Eliminated 2-itemset has 8 items.\n",
        "{'Bread,Milk': 3, 'Beer,Bread': 2, 'Bread,Diapers': 3, 'Beer,Milk': 2, 'Diapers,Milk': 3, 'Cola,Milk': 2, 'Beer,Diapers': 3, 'Cola,Diapers': 2}\n",
        "\n",
        "Candidate 3-itemset has 10 items.\n",
        "{'Beer,Bread,Milk': 0, 'Bread,Diapers,Milk': 0, 'Bread,Cola,Milk': 0, 'Beer,Bread,Diapers': 0, 'Bread,Cola,Diapers': 0, 'Beer,Diapers,Milk': 0, 'Cola,Diapers,Milk': 0, 'Beer,Cola,Milk': 0, 'Beer,Cola,Diapers': 0, 'Beer,Bread,Cola': 0}\n",
        "\n",
        "Pruned 3-itemset has 5 items.\n",
        "{'Beer,Bread,Milk': 0, 'Bread,Diapers,Milk': 0, 'Beer,Bread,Diapers': 0, 'Beer,Diapers,Milk': 0, 'Cola,Diapers,Milk': 0}\n",
        "\n",
        "Eliminated 3-itemset has 4 items.\n",
        "{'Bread,Diapers,Milk': 2, 'Beer,Bread,Diapers': 2, 'Beer,Diapers,Milk': 2, 'Cola,Diapers,Milk': 2}\n",
        "\n",
        "Candidate 4-itemset has 4 items.\n",
        "{'Beer,Bread,Diapers,Milk': 0, 'Bread,Cola,Diapers,Milk': 0, 'Beer,Cola,Diapers,Milk': 0, 'Beer,Bread,Cola,Diapers': 0}\n",
        "\n",
        "Pruned 4-itemset has 0 items.\n",
        "{}\n",
        "\n",
        "Eliminated 4-itemset has 0 items.\n",
        "{}\n",
        "END\n",
        "\n",
        "```"
      ]
    },
    {
      "cell_type": "code",
      "execution_count": null,
      "metadata": {
        "id": "cgriv27YZmil"
      },
      "outputs": [],
      "source": [
        "#reference: http://www.vucreations.com/articles/apriori-algorithm-from-scratch-Python.html"
      ]
    },
    {
      "cell_type": "code",
      "execution_count": null,
      "metadata": {
        "id": "A9QfCrqxZmim"
      },
      "outputs": [],
      "source": [
        ""
      ]
    }
  ],
  "metadata": {
    "colab": {
      "name": "AssocAnalysisAssign1_CindyChen.ipynb",
      "provenance": [],
      "include_colab_link": true
    },
    "kernelspec": {
      "display_name": "Python 3",
      "language": "python",
      "name": "python3"
    },
    "language_info": {
      "codemirror_mode": {
        "name": "ipython",
        "version": 3
      },
      "file_extension": ".py",
      "mimetype": "text/x-python",
      "name": "python",
      "nbconvert_exporter": "python",
      "pygments_lexer": "ipython3",
      "version": "3.8.8"
    }
  },
  "nbformat": 4,
  "nbformat_minor": 0
}