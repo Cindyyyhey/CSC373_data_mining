{
  "nbformat": 4,
  "nbformat_minor": 0,
  "metadata": {
    "colab": {
      "name": "BayesAssign1_Student.ipynb",
      "provenance": [],
      "collapsed_sections": [],
      "include_colab_link": true
    },
    "kernelspec": {
      "display_name": "Python 3",
      "language": "python",
      "name": "python3"
    },
    "language_info": {
      "codemirror_mode": {
        "name": "ipython",
        "version": 3
      },
      "file_extension": ".py",
      "mimetype": "text/x-python",
      "name": "python",
      "nbconvert_exporter": "python",
      "pygments_lexer": "ipython3",
      "version": "3.8.8"
    }
  },
  "cells": [
    {
      "cell_type": "markdown",
      "metadata": {
        "id": "view-in-github",
        "colab_type": "text"
      },
      "source": [
        "<a href=\"https://colab.research.google.com/github/Cindyyyhey/CSC373_data_mining/blob/main/BayesAssign1_Student.ipynb\" target=\"_parent\"><img src=\"https://colab.research.google.com/assets/colab-badge.svg\" alt=\"Open In Colab\"/></a>"
      ]
    },
    {
      "cell_type": "markdown",
      "metadata": {
        "id": "wwuV5csnWk4b"
      },
      "source": [
        "For this program, you will be coding some of the ideas around Bayes classification.\n",
        "\n",
        "**For most of this coding assignment, you may not use packages or \"canned\" code in your program other than simple function calls to needed math functions or file I/O. I.e., do not use a Bayes classifier that you did not write. However, for making histograms, plotting, or visualization, you may use other software. You may want to make this part of your package use.**\n",
        "\n",
        "The input file is a csv file named *BayesAssign1_??.dat* and is located in the Data folder on Google. Note: ?? is a number. Look in the folder for possibly more than 1 data file. They were built with different parameters.\n",
        "\n",
        "Each  line is an observation that has the class indicator, \"NEG\" or \"POS\", followed by numeric values for one feature. NEG indicates the absence of a disease or other characteristic. POS indicates the presence.\n",
        "\n",
        "The values for each class come from Gaussian distributions. \n",
        "\n",
        "Split the data into train and test sets. Determine the statistics for each distribution (mean and variance), NEG and POS, from the training data. Using this information, classify the data in the test set.\n",
        "\n",
        "Print to the console the following values:\n",
        "* estimated mean and standard deviation for each class.\n",
        "* estimated prior probability of each class\n",
        "* percentage of the data used for training\n",
        "* prevalence\n",
        "* accuracy\n",
        "* sensitivity\n",
        "* specificity\n",
        "* precision (positive predicitive value)\n",
        "* a confusion matrix (does not have to be in matrix form - just label the numbers)\n",
        "\n",
        "You may want to output your classified test data. If so, perhaps on each line would be: actual class, predicted class, value.\n",
        "\n",
        "You could read this data into other programs for analysis, ...\n",
        "\n",
        "**Other ideas**\n",
        "\n",
        "* Make plots, on the same graph, of two Gaussians using the mean and variance you calculated.\n",
        "* Plot histograms of the original data.\n",
        "* How do your estimated parameters and performance vary with training fraction?\n",
        "* Discuss how this might work if one or both of the distributions were uniform in the interval [a, b] instead of both Gaussian.\n",
        "* Discuss how this might work for more than one class.\n",
        "* Discuss how this might work for multi-dimensional (more than one feature) observations. E.g., 2-D Gaussians.\n",
        "\n",
        "\n",
        "\n",
        "\n"
      ]
    },
    {
      "cell_type": "code",
      "metadata": {
        "id": "lncsyL5QWiOX"
      },
      "source": [
        "'''\n",
        "Functions and imports for Bayes Assignment #1\n",
        "'''\n",
        "import math\n",
        "import random\n",
        "import matplotlib.pyplot as plt\n",
        "import numpy as np\n",
        "import pandas as pd\n",
        "from matplotlib import colors\n",
        "from matplotlib.ticker import PercentFormatter\n",
        "\n",
        "#Return the Gaussian probability density function for x given mean = m and sigma = s\n",
        "def gauss_val(x, m, s):\n",
        "  val = math.exp(-math.pow((x-m)/s,2)/2.0)/(s*math.sqrt(math.pi*2))\n",
        "  return(val)\n",
        "\n",
        "#Generate Gaussian values for each class\n",
        "#  Add uniform noise\n",
        "def gen_gauss_list(stats, cl_names, num, noise_fact):\n",
        "  g_vals = []\n",
        "  for i in range(num):\n",
        "    c = random.random()\n",
        "    #Is the sample from class 0 or from class 1?\n",
        "    if (c < stats[2]):\n",
        "      new_val = random.gauss(stats[0], stats[1])\n",
        "      noise_val = random.uniform(-noise_fact*stats[1], noise_fact*stats[1])\n",
        "      new_val += noise_val\n",
        "      g_vals.append([cl_names[0], new_val])\n",
        "    else:\n",
        "      new_val = random.gauss(stats[3], stats[4])\n",
        "      noise_val = random.uniform(-noise_fact*stats[4], noise_fact*stats[4])\n",
        "      new_val += noise_val      \n",
        "      g_vals.append([cl_names[1], new_val])\n",
        "  return(g_vals)"
      ],
      "execution_count": null,
      "outputs": []
    },
    {
      "cell_type": "code",
      "metadata": {
        "id": "Nac7BozcYYhi",
        "outputId": "c35495f8-339e-4cb1-f90e-4983dc705182"
      },
      "source": [
        "'''\n",
        "Generate data for Bayes Assignment #1. Assume 2 Gaussians for now\n",
        "\n",
        "Students do not need this code, and it is only here in case of interest\n",
        "  of if they want to make their own data to check their code.\n",
        "  If so, change the output file name below.\n",
        "Note: parameters given below are not those used for data provided.\n",
        "\n",
        "'''\n",
        "\n",
        "if __name__ == \"__main__\":\n",
        "\n",
        "  #Class conditional parameters for two Gaussians.\n",
        "  MEAN_0 = 0.0\n",
        "  SIG_0  = 1.0\n",
        "  PROB_0 = 0.5\n",
        "  MEAN_1 = 1.0\n",
        "  SIG_1  = 2.0\n",
        "  PROB_1 = 1 - PROB_0\n",
        "\n",
        "  STATS = [MEAN_0, SIG_0, PROB_0, MEAN_1, SIG_1, PROB_1]\n",
        "  CLASS_NAMES = [\"NEG\", \"POS\"]\n",
        "\n",
        "  SEED = 977894657\n",
        "  random.seed(SEED)\n",
        "\n",
        "  #Noise can be added as a fraction of the sigma for each class.\n",
        "  NOISE_FACT = 0.0\n",
        "\n",
        "  NUM_VALUES = 10000\n",
        "\n",
        "  #Print parameters\n",
        "  print(\"Actual parameters: {:.4f} {:.4f} {:.4f} {:.4f} {:.4f} {:.4f}\".format(MEAN_0, SIG_0, PROB_0, \\\n",
        "                                                                              MEAN_1, SIG_1, PROB_1))\n",
        "  print(\"Noise factor: {:.4f}\".format(NOISE_FACT))\n",
        "  print()\n",
        "\n",
        "  val_list = gen_gauss_list(STATS, CLASS_NAMES, NUM_VALUES, NOISE_FACT)\n",
        "\n",
        "  #Output file name. Students should use their folder and name.\n",
        "  out_file_name = 'MY OUTPUT FILE NAME'\n",
        "\n",
        "  #Write output csv file\n",
        "  with open(out_file_name, 'w') as out_file_ptr:\n",
        "    for i in range(len(val_list)):\n",
        "      pass\n",
        "      out_str = \"{:s}, {:7.4f}\\n\".format(val_list[i][0], val_list[i][1])\n",
        "      out_file_ptr.write(out_str)\n",
        "\n",
        "\n",
        "  print(\"END\")\n"
      ],
      "execution_count": null,
      "outputs": [
        {
          "name": "stdout",
          "output_type": "stream",
          "text": [
            "Actual parameters: 0.0000 1.0000 0.5000 1.0000 2.0000 0.5000\n",
            "Noise factor: 0.0000\n",
            "\n",
            "END\n"
          ]
        }
      ]
    },
    {
      "cell_type": "markdown",
      "metadata": {
        "id": "NvQbRVnobG80"
      },
      "source": [
        "**Sample output from running  the data generation code.**\n",
        "\n",
        "Actual parameters: 0.0000 1.0000 0.5000 1.0000 2.0000 0.5000\n",
        "\n",
        "Noise factor: 0.0000\n",
        "\n",
        "END\n"
      ]
    },
    {
      "cell_type": "code",
      "metadata": {
        "id": "a8XhoEssYeyS",
        "outputId": "a600bad2-eabf-4296-80a4-5bfc32d20d99"
      },
      "source": [
        "'''\n",
        "Bayes Classification - input data, split train and test sets,\n",
        "  train by estimating the parameters for the two class Gaussians\n",
        "  (mean, sigma, and class probability),then classify the test set.\n",
        "'''\n",
        "\n",
        "if __name__ == \"__main__\":"
      ],
      "execution_count": null,
      "outputs": [
        {
          "ename": "SyntaxError",
          "evalue": "unexpected EOF while parsing (<ipython-input-3-78f93a43ea05>, line 7)",
          "output_type": "error",
          "traceback": [
            "\u001b[0;36m  File \u001b[0;32m\"<ipython-input-3-78f93a43ea05>\"\u001b[0;36m, line \u001b[0;32m7\u001b[0m\n\u001b[0;31m    if __name__ == \"__main__\":\u001b[0m\n\u001b[0m                              ^\u001b[0m\n\u001b[0;31mSyntaxError\u001b[0m\u001b[0;31m:\u001b[0m unexpected EOF while parsing\n"
          ]
        }
      ]
    },
    {
      "cell_type": "markdown",
      "metadata": {
        "id": "S-x429DBYvYU"
      },
      "source": [
        "**Sample output from running the classification code.**\n",
        "\n",
        "Training fraction: 0.7 10000 7000 3000\n",
        "\n",
        "Estimated parameters (mean0, sig0, prob0, mean1, sig1, prob1): 0.0046 1.0103 0.4917 1.0268 2.0142 0.4917\n",
        "\n",
        "True POS:  785\n",
        "\n",
        "False POS: 217\n",
        "\n",
        "True NEG:  1294\n",
        "\n",
        "False NEG: 704\n",
        "\n",
        "\n",
        "Prevalence:    0.496\n",
        "\n",
        "Accuracy:      0.693\n",
        "\n",
        "Sensitivity:   0.527\n",
        "\n",
        "Specificity:   0.856\n",
        "\n",
        "Precision:     0.783\n",
        "\n",
        "PPV:           0.783\n"
      ]
    },
    {
      "cell_type": "code",
      "metadata": {
        "id": "Ls9cITrOYklL"
      },
      "source": [
        "'''\n",
        "Histogram plotting - or other analysis students may like to do.\n",
        "\n",
        "I used information from the links below to code histogram plots.\n",
        "\n",
        "https://matplotlib.org/stable/gallery/statistics/hist.html\n",
        "https://stackoverflow.com/questions/33203645/how-to-plot-a-histogram-using-matplotlib-in-python-with-a-list-of-data\n",
        "\n",
        "\n",
        "'''"
      ],
      "execution_count": null,
      "outputs": []
    },
    {
      "cell_type": "markdown",
      "metadata": {
        "id": "SBgxgSF1XSaM"
      },
      "source": [
        "# Read data"
      ]
    },
    {
      "cell_type": "code",
      "metadata": {
        "id": "SDz8tm05XSaN",
        "outputId": "8a4d9c9a-eba7-474c-d575-87edd8dde824"
      },
      "source": [
        "data = pd.read_csv(\"/Users/Jerry/Desktop/CSC373/jupyter notebook/data/BayesAssign1_01.csv\",header = None,names=['class', 'x'])\n",
        "data.head()"
      ],
      "execution_count": null,
      "outputs": [
        {
          "data": {
            "text/html": [
              "<div>\n",
              "<style scoped>\n",
              "    .dataframe tbody tr th:only-of-type {\n",
              "        vertical-align: middle;\n",
              "    }\n",
              "\n",
              "    .dataframe tbody tr th {\n",
              "        vertical-align: top;\n",
              "    }\n",
              "\n",
              "    .dataframe thead th {\n",
              "        text-align: right;\n",
              "    }\n",
              "</style>\n",
              "<table border=\"1\" class=\"dataframe\">\n",
              "  <thead>\n",
              "    <tr style=\"text-align: right;\">\n",
              "      <th></th>\n",
              "      <th>class</th>\n",
              "      <th>x</th>\n",
              "    </tr>\n",
              "  </thead>\n",
              "  <tbody>\n",
              "    <tr>\n",
              "      <th>0</th>\n",
              "      <td>NEG</td>\n",
              "      <td>0.5269</td>\n",
              "    </tr>\n",
              "    <tr>\n",
              "      <th>1</th>\n",
              "      <td>POS</td>\n",
              "      <td>1.0280</td>\n",
              "    </tr>\n",
              "    <tr>\n",
              "      <th>2</th>\n",
              "      <td>NEG</td>\n",
              "      <td>0.3218</td>\n",
              "    </tr>\n",
              "    <tr>\n",
              "      <th>3</th>\n",
              "      <td>NEG</td>\n",
              "      <td>0.0342</td>\n",
              "    </tr>\n",
              "    <tr>\n",
              "      <th>4</th>\n",
              "      <td>NEG</td>\n",
              "      <td>1.5655</td>\n",
              "    </tr>\n",
              "  </tbody>\n",
              "</table>\n",
              "</div>"
            ],
            "text/plain": [
              "  class       x\n",
              "0   NEG  0.5269\n",
              "1   POS  1.0280\n",
              "2   NEG  0.3218\n",
              "3   NEG  0.0342\n",
              "4   NEG  1.5655"
            ]
          },
          "execution_count": 8,
          "metadata": {},
          "output_type": "execute_result"
        }
      ]
    },
    {
      "cell_type": "markdown",
      "metadata": {
        "id": "VXPcBe4zXSaN"
      },
      "source": [
        "# Shuffle the data and split to training set and testing set"
      ]
    },
    {
      "cell_type": "code",
      "metadata": {
        "id": "cIKOYGezXSaO",
        "outputId": "c8e7cf5d-8e10-46ed-9ff3-c48f32aca44b"
      },
      "source": [
        "data = data.sample(frac = 1,random_state = 1)\n",
        "data.head()\n",
        "#Got shuffle successful"
      ],
      "execution_count": null,
      "outputs": [
        {
          "data": {
            "text/html": [
              "<div>\n",
              "<style scoped>\n",
              "    .dataframe tbody tr th:only-of-type {\n",
              "        vertical-align: middle;\n",
              "    }\n",
              "\n",
              "    .dataframe tbody tr th {\n",
              "        vertical-align: top;\n",
              "    }\n",
              "\n",
              "    .dataframe thead th {\n",
              "        text-align: right;\n",
              "    }\n",
              "</style>\n",
              "<table border=\"1\" class=\"dataframe\">\n",
              "  <thead>\n",
              "    <tr style=\"text-align: right;\">\n",
              "      <th></th>\n",
              "      <th>class</th>\n",
              "      <th>x</th>\n",
              "    </tr>\n",
              "  </thead>\n",
              "  <tbody>\n",
              "    <tr>\n",
              "      <th>507</th>\n",
              "      <td>NEG</td>\n",
              "      <td>-0.6828</td>\n",
              "    </tr>\n",
              "    <tr>\n",
              "      <th>818</th>\n",
              "      <td>NEG</td>\n",
              "      <td>-1.3496</td>\n",
              "    </tr>\n",
              "    <tr>\n",
              "      <th>452</th>\n",
              "      <td>NEG</td>\n",
              "      <td>-0.7985</td>\n",
              "    </tr>\n",
              "    <tr>\n",
              "      <th>368</th>\n",
              "      <td>NEG</td>\n",
              "      <td>1.3966</td>\n",
              "    </tr>\n",
              "    <tr>\n",
              "      <th>242</th>\n",
              "      <td>NEG</td>\n",
              "      <td>2.1220</td>\n",
              "    </tr>\n",
              "  </tbody>\n",
              "</table>\n",
              "</div>"
            ],
            "text/plain": [
              "    class       x\n",
              "507   NEG -0.6828\n",
              "818   NEG -1.3496\n",
              "452   NEG -0.7985\n",
              "368   NEG  1.3966\n",
              "242   NEG  2.1220"
            ]
          },
          "execution_count": 9,
          "metadata": {},
          "output_type": "execute_result"
        }
      ]
    },
    {
      "cell_type": "code",
      "metadata": {
        "id": "yK11qOZNXSaO",
        "outputId": "47c2dc98-d9e9-44fd-d278-13012c2cf2c6"
      },
      "source": [
        "len(data)"
      ],
      "execution_count": null,
      "outputs": [
        {
          "data": {
            "text/plain": [
              "1000"
            ]
          },
          "execution_count": 10,
          "metadata": {},
          "output_type": "execute_result"
        }
      ]
    },
    {
      "cell_type": "code",
      "metadata": {
        "id": "ZknkRz73XSaP",
        "outputId": "ae52bf18-a543-4a57-b0de-b68c3ed7a223"
      },
      "source": [
        "testData = data[:300]\n",
        "trainData = data[300:]\n",
        "print(len(testData),len(trainData))"
      ],
      "execution_count": null,
      "outputs": [
        {
          "name": "stdout",
          "output_type": "stream",
          "text": [
            "300 700\n"
          ]
        }
      ]
    },
    {
      "cell_type": "markdown",
      "metadata": {
        "id": "SQoRfU3zXSaQ"
      },
      "source": [
        "# P(N) and P(P)"
      ]
    },
    {
      "cell_type": "code",
      "metadata": {
        "id": "tYazumqcXSaQ",
        "outputId": "f4da640e-2890-495d-d70a-3712aab67943"
      },
      "source": [
        "probN = trainData[\"class\"].value_counts()[\"NEG\"]/len(trainData)\n",
        "probP = trainData[\"class\"].value_counts()[\"POS\"]/len(trainData)\n",
        "print(\"P(N) = {} and P(P) = {}\".format(probN,probP))"
      ],
      "execution_count": null,
      "outputs": [
        {
          "name": "stdout",
          "output_type": "stream",
          "text": [
            "P(N) = 0.7757142857142857 and P(P) = 0.22428571428571428\n"
          ]
        }
      ]
    },
    {
      "cell_type": "markdown",
      "metadata": {
        "id": "NbT_OSt8XSaR"
      },
      "source": [
        "# Calculate the mean and standard deviation for x(assume normal distribution)"
      ]
    },
    {
      "cell_type": "markdown",
      "metadata": {
        "id": "lYqUThHNXSaS"
      },
      "source": [
        "According to the histogram of x, it is approximately bell shape so we decided to use normal distribution"
      ]
    },
    {
      "cell_type": "code",
      "metadata": {
        "id": "K1X0Hb7nXSaS",
        "outputId": "3d95483b-e65f-4354-d540-8fa656db6240"
      },
      "source": [
        "plt.hist(trainData[trainData[\"class\"]==\"NEG\"][\"x\"])\n",
        "plt.show() "
      ],
      "execution_count": null,
      "outputs": [
        {
          "data": {
            "image/png": "[encoded data removed]",
            "text/plain": [
              "<Figure size 432x288 with 1 Axes>"
            ]
          },
          "metadata": {
            "needs_background": "light"
          },
          "output_type": "display_data"
        }
      ]
    },
    {
      "cell_type": "code",
      "metadata": {
        "id": "URiwI1esXSaT",
        "outputId": "a6b7fc99-3a68-43b3-bd0c-a9b857089fc3"
      },
      "source": [
        "plt.hist(trainData[trainData[\"class\"]==\"POS\"][\"x\"])\n",
        "plt.show() "
      ],
      "execution_count": null,
      "outputs": [
        {
          "data": {
            "image/png": "[encoded data removed]",
            "text/plain": [
              "<Figure size 432x288 with 1 Axes>"
            ]
          },
          "metadata": {
            "needs_background": "light"
          },
          "output_type": "display_data"
        }
      ]
    },
    {
      "cell_type": "markdown",
      "metadata": {
        "id": "i0_Xx5_IXSaT"
      },
      "source": [
        "# From the histogram, we notice that there is a big difference between the mean and sd between neg and pos group."
      ]
    },
    {
      "cell_type": "code",
      "metadata": {
        "id": "EqbRzKQnXSaU",
        "outputId": "223ac8ec-62a3-4d8d-de27-1b08df31c6b9"
      },
      "source": [
        "meanNEG = sum(trainData[trainData[\"class\"]==\"NEG\"][\"x\"])/len(trainData[trainData[\"class\"]==\"NEG\"])\n",
        "meanNEG"
      ],
      "execution_count": null,
      "outputs": [
        {
          "data": {
            "text/plain": [
              "-0.01595782688766112"
            ]
          },
          "execution_count": 15,
          "metadata": {},
          "output_type": "execute_result"
        }
      ]
    },
    {
      "cell_type": "code",
      "metadata": {
        "id": "CbeR6SyiXSaU",
        "outputId": "01d71b27-1a1b-43b6-c1a8-4a01d7be54a0"
      },
      "source": [
        "standNEG = sum((trainData[trainData[\"class\"]==\"NEG\"][\"x\"]-meanNEG)**2)/(len(trainData[trainData[\"class\"]==\"NEG\"])-1)\n",
        "standNEG = standNEG**0.5\n",
        "standNEG"
      ],
      "execution_count": null,
      "outputs": [
        {
          "data": {
            "text/plain": [
              "1.0223110204238923"
            ]
          },
          "execution_count": 16,
          "metadata": {},
          "output_type": "execute_result"
        }
      ]
    },
    {
      "cell_type": "code",
      "metadata": {
        "id": "zOPKDDazXSaV",
        "outputId": "796438ca-f3e6-4554-fb13-8da0fc4ee12b"
      },
      "source": [
        "meanPOS = sum(trainData[trainData[\"class\"]==\"POS\"][\"x\"])/len(trainData[trainData[\"class\"]==\"POS\"])\n",
        "meanPOS"
      ],
      "execution_count": null,
      "outputs": [
        {
          "data": {
            "text/plain": [
              "3.066441401273885"
            ]
          },
          "execution_count": 17,
          "metadata": {},
          "output_type": "execute_result"
        }
      ]
    },
    {
      "cell_type": "code",
      "metadata": {
        "id": "MqCfXkyrXSaW",
        "outputId": "3f5c85c6-29a9-40d5-c395-022816174e20"
      },
      "source": [
        "standPOS = sum((trainData[trainData[\"class\"]==\"POS\"][\"x\"]-meanPOS)**2)/(len(trainData[trainData[\"class\"]==\"POS\"])-1)\n",
        "standPOS = standPOS**0.5\n",
        "standPOS"
      ],
      "execution_count": null,
      "outputs": [
        {
          "data": {
            "text/plain": [
              "0.9966268857324145"
            ]
          },
          "execution_count": 18,
          "metadata": {},
          "output_type": "execute_result"
        }
      ]
    },
    {
      "cell_type": "code",
      "metadata": {
        "id": "_W31yLcZXSaW"
      },
      "source": [
        "#Return the Gaussian probability density function for x given mean = m and sigma = s\n",
        "def gauss_val(x, m, s):\n",
        "    val = math.exp(-math.pow((x-m)/s,2)/2.0)/(s*math.sqrt(math.pi*2))\n",
        "    return(val)"
      ],
      "execution_count": null,
      "outputs": []
    },
    {
      "cell_type": "code",
      "metadata": {
        "id": "dj0ozPa0XSaX"
      },
      "source": [
        ""
      ],
      "execution_count": null,
      "outputs": []
    },
    {
      "cell_type": "code",
      "metadata": {
        "id": "ZBJgKRPTXSaX"
      },
      "source": [
        "correctCounts = 0\n",
        "for index, row in testData.iterrows():\n",
        "    inN = probN * gauss_val(row['x'], meanNEG, standNEG)\n",
        "    inP = probP * gauss_val(row['x'], meanPOS, standPOS)\n",
        "    print(inN,inP,row[\"x\"])\n",
        "    if(inN > inP):\n",
        "        pred = \"NEG\"\n",
        "    else:\n",
        "        pred = \"POS\"\n",
        "        \n",
        "    testData.at[index,'pred'] = pred\n",
        "    print(\"prediction is\",pred,\"class is\",row[\"class\"])\n",
        "    if(pred == row['class']):\n",
        "        correctCounts +=1\n",
        "correctCounts"
      ],
      "execution_count": null,
      "outputs": []
    },
    {
      "cell_type": "code",
      "metadata": {
        "id": "qukpz9UcXSaY",
        "outputId": "32fbf12f-0071-4587-ccb9-dfcb1b918601"
      },
      "source": [
        "correctCounts/len(testData)"
      ],
      "execution_count": null,
      "outputs": [
        {
          "data": {
            "text/plain": [
              "0.9433333333333334"
            ]
          },
          "execution_count": 21,
          "metadata": {},
          "output_type": "execute_result"
        }
      ]
    },
    {
      "cell_type": "markdown",
      "metadata": {
        "id": "TTB36GeEXSaY"
      },
      "source": [
        "# Accuracy of test dataset"
      ]
    },
    {
      "cell_type": "code",
      "metadata": {
        "id": "h9tagUIHXSaY",
        "outputId": "dbe3c583-cacf-4730-d2dd-bf4d9bc82f52"
      },
      "source": [
        "sum(testData[\"class\"]==testData[\"pred\"])/len(testData)"
      ],
      "execution_count": null,
      "outputs": [
        {
          "data": {
            "text/plain": [
              "0.9433333333333334"
            ]
          },
          "execution_count": 22,
          "metadata": {},
          "output_type": "execute_result"
        }
      ]
    },
    {
      "cell_type": "markdown",
      "metadata": {
        "id": "gqEWq4WRXSaZ"
      },
      "source": [
        "prevalence\n",
        "accuracy\n",
        "sensitivity\n",
        "specificity\n",
        "precision (positive predicitive value)\n",
        "a confusion matrix (does not have to be in matrix form - just label the numbers)"
      ]
    },
    {
      "cell_type": "markdown",
      "metadata": {
        "id": "e2b6J2MNXSaZ"
      },
      "source": [
        "True Positive (TP) is an outcome where the model correctly predicts the positive class.\n",
        "\n",
        "True Negative (TN) is an outcome where the model correctly predicts the negative class.\n",
        "\n",
        "False Positive (FP) is an outcome where the model incorrectly predicts the positive class.\n",
        "\n",
        "False Negative (FN) is an outcome where the model incorrectly predicts the negative class."
      ]
    },
    {
      "cell_type": "code",
      "metadata": {
        "scrolled": true,
        "id": "zuFHUpHhXSaZ",
        "outputId": "8858849f-fa15-44ff-869e-f981d25f015e"
      },
      "source": [
        "TP = len(testData.loc[(testData[\"class\"]==\"POS\") & (testData[\"pred\"]==\"POS\")])\n",
        "TP"
      ],
      "execution_count": null,
      "outputs": [
        {
          "data": {
            "text/plain": [
              "60"
            ]
          },
          "execution_count": 23,
          "metadata": {},
          "output_type": "execute_result"
        }
      ]
    },
    {
      "cell_type": "code",
      "metadata": {
        "id": "HKiegp-1XSaa",
        "outputId": "66dfc222-46d2-4f05-f057-152c9d76ad67"
      },
      "source": [
        "TN = len(testData.loc[(testData[\"class\"]==\"NEG\") & (testData[\"pred\"]==\"NEG\")])\n",
        "TN"
      ],
      "execution_count": null,
      "outputs": [
        {
          "data": {
            "text/plain": [
              "223"
            ]
          },
          "execution_count": 24,
          "metadata": {},
          "output_type": "execute_result"
        }
      ]
    },
    {
      "cell_type": "code",
      "metadata": {
        "id": "vg447uf6XSaa",
        "outputId": "5c02d2ff-b914-4b9a-ed2a-0151e5f7745b"
      },
      "source": [
        "FP = len(testData.loc[(testData[\"class\"]==\"NEG\") & (testData[\"pred\"]==\"POS\")])\n",
        "FP"
      ],
      "execution_count": null,
      "outputs": [
        {
          "data": {
            "text/plain": [
              "8"
            ]
          },
          "execution_count": 25,
          "metadata": {},
          "output_type": "execute_result"
        }
      ]
    },
    {
      "cell_type": "code",
      "metadata": {
        "id": "GILsag3JXSab",
        "outputId": "12a01297-984e-43b0-ba91-819e4a0c9926"
      },
      "source": [
        "FN = len(testData.loc[(testData[\"class\"]==\"POS\") & (testData[\"pred\"]==\"NEG\")])\n",
        "FN"
      ],
      "execution_count": null,
      "outputs": [
        {
          "data": {
            "text/plain": [
              "9"
            ]
          },
          "execution_count": 26,
          "metadata": {},
          "output_type": "execute_result"
        }
      ]
    },
    {
      "cell_type": "code",
      "metadata": {
        "id": "yk7Ah0MQXSab",
        "outputId": "b0012f58-d6e2-4025-d0fc-d8c16db2b048"
      },
      "source": [
        "accuracy = (TP+TN)/(TP+FP+FN+TN)\n",
        "accuracy"
      ],
      "execution_count": null,
      "outputs": [
        {
          "data": {
            "text/plain": [
              "0.9433333333333334"
            ]
          },
          "execution_count": 27,
          "metadata": {},
          "output_type": "execute_result"
        }
      ]
    },
    {
      "cell_type": "code",
      "metadata": {
        "id": "jezHKAI2XSac",
        "outputId": "f1b4787f-cde5-4270-a251-3d88cca2e712"
      },
      "source": [
        "sensitivity = TP/(TP+FN)\n",
        "sensitivity"
      ],
      "execution_count": null,
      "outputs": [
        {
          "data": {
            "text/plain": [
              "0.8695652173913043"
            ]
          },
          "execution_count": 28,
          "metadata": {},
          "output_type": "execute_result"
        }
      ]
    },
    {
      "cell_type": "code",
      "metadata": {
        "id": "5kuZYLSaXSac",
        "outputId": "a324561e-6595-4bc5-c846-1e0117fbad39"
      },
      "source": [
        "specificity = TN/(FP+TN)\n",
        "specificity"
      ],
      "execution_count": null,
      "outputs": [
        {
          "data": {
            "text/plain": [
              "0.9653679653679653"
            ]
          },
          "execution_count": 29,
          "metadata": {},
          "output_type": "execute_result"
        }
      ]
    },
    {
      "cell_type": "code",
      "metadata": {
        "id": "luQ0b210XSad",
        "outputId": "488943a8-2e5a-4a08-cf30-9909a3cee560"
      },
      "source": [
        "precision = TP/(TP+FP)\n",
        "precision"
      ],
      "execution_count": null,
      "outputs": [
        {
          "data": {
            "text/plain": [
              "0.8823529411764706"
            ]
          },
          "execution_count": 30,
          "metadata": {},
          "output_type": "execute_result"
        }
      ]
    },
    {
      "cell_type": "code",
      "metadata": {
        "id": "n-T0wfsUXSae"
      },
      "source": [
        ""
      ],
      "execution_count": null,
      "outputs": []
    }
  ]
}