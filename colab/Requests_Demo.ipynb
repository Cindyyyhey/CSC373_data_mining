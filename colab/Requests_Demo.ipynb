{
 "cells": [
  {
   "cell_type": "code",
   "execution_count": null,
   "metadata": {
    "colab": {
     "base_uri": "https://localhost:8080/"
    },
    "executionInfo": {
     "elapsed": 3963,
     "status": "ok",
     "timestamp": 1622916990886,
     "user": {
      "displayName": "Pete Santago",
      "photoUrl": "https://lh3.googleusercontent.com/a-/AOh14GjSplKdogEiJygeqySHe3YfoIyU0bRLG5yDoXB3xg=s64",
      "userId": "17011409688126253455"
     },
     "user_tz": 240
    },
    "id": "7H3jymeAY7Cp",
    "outputId": "c93576dc-4400-4ecb-8510-40b2dee5cfe6"
   },
   "outputs": [
    {
     "name": "stdout",
     "output_type": "stream",
     "text": [
      "Requirement already satisfied: requests in /usr/local/lib/python3.7/dist-packages (2.23.0)\n",
      "Requirement already satisfied: chardet<4,>=3.0.2 in /usr/local/lib/python3.7/dist-packages (from requests) (3.0.4)\n",
      "Requirement already satisfied: idna<3,>=2.5 in /usr/local/lib/python3.7/dist-packages (from requests) (2.10)\n",
      "Requirement already satisfied: urllib3!=1.25.0,!=1.25.1,<1.26,>=1.21.1 in /usr/local/lib/python3.7/dist-packages (from requests) (1.24.3)\n",
      "Requirement already satisfied: certifi>=2017.4.17 in /usr/local/lib/python3.7/dist-packages (from requests) (2020.12.5)\n"
     ]
    }
   ],
   "source": [
    "pip install requests\n"
   ]
  },
  {
   "cell_type": "code",
   "execution_count": 1,
   "metadata": {
    "colab": {
     "base_uri": "https://localhost:8080/"
    },
    "executionInfo": {
     "elapsed": 1858,
     "status": "ok",
     "timestamp": 1630418959337,
     "user": {
      "displayName": "Pete Santago",
      "photoUrl": "https://lh3.googleusercontent.com/a-/AOh14GjSplKdogEiJygeqySHe3YfoIyU0bRLG5yDoXB3xg=s64",
      "userId": "17011409688126253455"
     },
     "user_tz": 240
    },
    "id": "US955m-hZBPd",
    "outputId": "5a05b480-70df-4955-8356-913b71115c10"
   },
   "outputs": [
    {
     "name": "stdout",
     "output_type": "stream",
     "text": [
      "<Response [200]>\n",
      "Return status: 200 True\n",
      "Headers: {'Connection': 'keep-alive', 'Content-Length': '78137', 'Server': 'nginx', 'Content-Type': 'image/png', 'Last-Modified': 'Fri, 04 May 2018 15:53:44 GMT', 'ETag': '\"5aec8208-13139\"', 'Expires': 'Wed, 01 Sep 2021 01:42:13 GMT', 'Cache-Control': 'max-age=300', 'Accept-Ranges': 'bytes', 'Date': 'Wed, 01 Sep 2021 01:37:13 GMT', 'Via': '1.1 varnish', 'Age': '0', 'X-Served-By': 'cache-bwi5074-BWI', 'X-Cache': 'MISS', 'X-Cache-Hits': '0', 'X-Timer': 'S1630460234.782550,VS0,VE76'}\n",
      "Text\n",
      " {\n",
      "  \"args\": {\n",
      "    \"count\": \"25\", \n",
      "    \"page\": \"2\"\n",
      "  }, \n",
      "  \"headers\": {\n",
      "    \"Accept\": \"*/*\", \n",
      "    \"Accept-Encoding\": \"gzip, deflate\", \n",
      "    \"Host\": \"httpbin.org\", \n",
      "    \"User-Agent\": \"python-requests/2.25.1\", \n",
      "    \"X-Amzn-Trace-Id\": \"Root=1-612ed94a-3a99279247f4d0e03c4ce067\"\n",
      "  }, \n",
      "  \"origin\": \"152.17.157.112\", \n",
      "  \"url\": \"https://httpbin.org/get?page=2&count=25\"\n",
      "}\n",
      "\n",
      "url\n",
      " https://httpbin.org/get?page=2&count=25\n",
      "Post\n",
      " {\n",
      "  \"args\": {}, \n",
      "  \"data\": \"\", \n",
      "  \"files\": {}, \n",
      "  \"form\": {\n",
      "    \"password\": \"testpwd\", \n",
      "    \"username\": \"Pete\"\n",
      "  }, \n",
      "  \"headers\": {\n",
      "    \"Accept\": \"*/*\", \n",
      "    \"Accept-Encoding\": \"gzip, deflate\", \n",
      "    \"Content-Length\": \"30\", \n",
      "    \"Content-Type\": \"application/x-www-form-urlencoded\", \n",
      "    \"Host\": \"httpbin.org\", \n",
      "    \"User-Agent\": \"python-requests/2.25.1\", \n",
      "    \"X-Amzn-Trace-Id\": \"Root=1-612ed94a-0ffeae7976bb172c1b652d9d\"\n",
      "  }, \n",
      "  \"json\": null, \n",
      "  \"origin\": \"152.17.157.112\", \n",
      "  \"url\": \"https://httpbin.org/post\"\n",
      "}\n",
      "\n",
      "json dictionary\n",
      " {'args': {}, 'data': '', 'files': {}, 'form': {'password': 'testpwd', 'username': 'Pete'}, 'headers': {'Accept': '*/*', 'Accept-Encoding': 'gzip, deflate', 'Content-Length': '30', 'Content-Type': 'application/x-www-form-urlencoded', 'Host': 'httpbin.org', 'User-Agent': 'python-requests/2.25.1', 'X-Amzn-Trace-Id': 'Root=1-612ed94a-0ffeae7976bb172c1b652d9d'}, 'json': None, 'origin': '152.17.157.112', 'url': 'https://httpbin.org/post'}\n",
      "\n",
      "form data: {'password': 'testpwd', 'username': 'Pete'}\n"
     ]
    }
   ],
   "source": [
    "''''\n",
    "Much of this came from the video: https://www.youtube.com/watch?v=tb8gHvYlCFs\n",
    "\n",
    "Also use httpbin.org\n",
    "\n",
    "'''\n",
    "\n",
    "import requests\n",
    "r = requests.get('https://xkcd.com/1989/')\n",
    "r = requests.get('https://win.wfu.edu')\n",
    "print(r)\n",
    "\n",
    "#Print status. 200s mean success. 300s, 400s, 500s, mean other things like errors.\n",
    "print(\"Return status:\", r.status_code, r.ok)\n",
    "\n",
    "#Prints source of website. Would need an HTML parser to get better information\n",
    "#print(r.text)\n",
    "\n",
    "#Use the image url for the comic. \n",
    "r = requests.get('https://imgs.xkcd.com/comics/imho.png')\n",
    "#Print the bytes from the image. Uncomment if you want to see it.\n",
    "#print(r.content)\n",
    "\n",
    "#You can write the image to a file.\n",
    "#with open('/content/drive/MyDrive/Colab Notebooks/xkcd_comic.png', 'wb') as f:\n",
    "#  f.write(r.content)\n",
    "\n",
    "#Look at headers\n",
    "print(\"Headers:\", r.headers)\n",
    "\n",
    "#Use httpbin.org\n",
    "payload = {'page' : 2, 'count' : 25}\n",
    "r = requests.get('https://httpbin.org/get', params=payload)\n",
    "print(\"Text\\n\", r.text)\n",
    "\n",
    "print(\"url\\n\", r.url)\n",
    "\n",
    "#Posting data. Print the return text.\n",
    "payload = {'username' : \"Pete\", 'password' : \"testpwd\"}\n",
    "r = requests.post('https://httpbin.org/post', data=payload)\n",
    "print(\"Post\\n\", r.text)\n",
    "\n",
    "#Print the json info as a Python dictionary(note, this is a method)\n",
    "r_dict = r.json()\n",
    "print(\"json dictionary\\n\", r_dict)\n",
    "#Example dictionary access. It has our posted data in 'form'\n",
    "print(\"\\nform data:\", r_dict['form'])\n",
    "\n",
    "#The video has an excellent segment on authorization and time out."
   ]
  },
  {
   "cell_type": "code",
   "execution_count": null,
   "metadata": {},
   "outputs": [],
   "source": []
  }
 ],
 "metadata": {
  "colab": {
   "authorship_tag": "ABX9TyPGtWkv6+Ak7oci2haJiZrG",
   "mount_file_id": "1YgJ3aIeBXA92KZa4iLFlBCZvgdBtLjfT",
   "name": "Requests_Demo.ipynb",
   "provenance": []
  },
  "kernelspec": {
   "display_name": "Python 3",
   "language": "python",
   "name": "python3"
  },
  "language_info": {
   "codemirror_mode": {
    "name": "ipython",
    "version": 3
   },
   "file_extension": ".py",
   "mimetype": "text/x-python",
   "name": "python",
   "nbconvert_exporter": "python",
   "pygments_lexer": "ipython3",
   "version": "3.8.8"
  }
 },
 "nbformat": 4,
 "nbformat_minor": 1
}
